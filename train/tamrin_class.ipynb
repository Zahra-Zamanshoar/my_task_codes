{
 "cells": [
  {
   "cell_type": "code",
   "execution_count": null,
   "id": "372bb16f",
   "metadata": {},
   "outputs": [],
   "source": [
    "class Parrot:\n",
    "    # class attribute\n",
    "    species = \"bird\"\n",
    "    @staticmethod\n",
    "    def zahra(zahra = None):\n",
    "        if zahra is not None:\n",
    "            zahra = 1\n",
    "            m = zahra\n",
    "        return print(m)\n",
    "\n",
    "    # instance attribute\n",
    "    def __init__(self, name, age):\n",
    "        self.name = name\n",
    "        self.age = age\n",
    "    def pooya(self,mohamady):\n",
    "        self.mohamady = mohamady\n",
    "        return print(mohamady)\n",
    "        \n",
    "\n",
    "\n",
    "# instantiate the Parrot class\n",
    "blu = Parrot(\"Blu\",3)\n",
    "woo = Parrot(\"Woo\",10)"
   ]
  },
  {
   "cell_type": "code",
   "execution_count": null,
   "id": "277d8164",
   "metadata": {},
   "outputs": [],
   "source": [
    "print(\"Blu is a {}\".format(blu.species))\n",
    "print(\"Woo is also a {}\".format(woo.species))"
   ]
  },
  {
   "cell_type": "code",
   "execution_count": null,
   "id": "7e3dd015",
   "metadata": {},
   "outputs": [],
   "source": [
    "blu.pooya(1)"
   ]
  },
  {
   "cell_type": "code",
   "execution_count": null,
   "id": "ec9f13e9",
   "metadata": {},
   "outputs": [],
   "source": [
    "class Parrot:\n",
    "\n",
    "    # instance attributes\n",
    "    def __init__(self, name, age):\n",
    "        self.name = name\n",
    "        self.age = age\n",
    "\n",
    "    # instance method\n",
    "    def sing(self, song):\n",
    "        return \"{} sings {}\".format(self.name, song)\n",
    "\n",
    "    def dance(self):\n",
    "        return \"{} is now dancing\".format(self.name)\n",
    "\n",
    "\n",
    "# instantiate the object\n",
    "blu = Parrot(\"Blu\", 10)\n",
    "\n",
    "# call our instance methods\n",
    "print(blu.sing(\"'Happy'\"))\n",
    "print(blu.dance())"
   ]
  },
  {
   "cell_type": "code",
   "execution_count": null,
   "id": "4abaaa97",
   "metadata": {},
   "outputs": [],
   "source": []
  }
 ],
 "metadata": {
  "kernelspec": {
   "display_name": "Python 3 (ipykernel)",
   "language": "python",
   "name": "python3"
  },
  "language_info": {
   "codemirror_mode": {
    "name": "ipython",
    "version": 3
   },
   "file_extension": ".py",
   "mimetype": "text/x-python",
   "name": "python",
   "nbconvert_exporter": "python",
   "pygments_lexer": "ipython3",
   "version": "3.10.5"
  }
 },
 "nbformat": 4,
 "nbformat_minor": 5
}
