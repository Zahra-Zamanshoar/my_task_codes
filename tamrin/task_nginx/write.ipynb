{
 "cells": [
  {
   "cell_type": "code",
   "execution_count": 6,
   "id": "6dd990d0",
   "metadata": {},
   "outputs": [],
   "source": [
    "import os\n",
    "import argparse"
   ]
  },
  {
   "cell_type": "code",
   "execution_count": 15,
   "id": "369bb98e",
   "metadata": {},
   "outputs": [],
   "source": [
    "def outer_inner( End_point):\n",
    "    \"\"\"\n",
    "    writes outer and inner in neginex.\n",
    "  \n",
    "    Parameters:\n",
    "    End_point (str): End point that  used  as outer and inner locations\n",
    "    point: point that  used  as outer and inner locations\n",
    "  \n",
    "    Returns:\n",
    "    string: outer and inner\n",
    "  \n",
    "    \"\"\"\n",
    "    outer = '## outer users'\n",
    "    \n",
    "    inner = \"## inner users, has no version because it should be updated instantly\"\n",
    "    \n",
    "    common = 'proxy_set_header Host $host; \\n proxy_set_header X-Real-IP $remote_addr;'\\\n",
    "              '\\n proxy_set_header X-Forwarded-For $proxy_add_x_forwarded_for' \n",
    "    \n",
    "    point = End_point.split('/')[-1]\n",
    "    return f'\\n {outer:2s} \\n location ^~ /ai{End_point} \\n  \\n proxy_pass $address_parser_upstream:660 {point}; \\n {common}\\n\\n'\\\n",
    "                 f'\\n {inner:2s} \\n location ^~ {End_point} \\n  \\n proxy_pass $address_parser_upstream:660 {point}; \\n {common}\\n'\\\n",
    "                 f' allow 172.16.0.0/12; \\n deny all;\\n \\n'\n",
    "\n",
    "\n",
    "def server(valid=30, size='20M'):\n",
    "    return f'  listen 80;\\n  server_name 0.0.0.0;\\n  resolver 127.0.0.11 valid=30s;\\n  client_max_body_size 20M;\\n \\n'\n"
   ]
  },
  {
   "cell_type": "code",
   "execution_count": 16,
   "id": "765113ad",
   "metadata": {},
   "outputs": [],
   "source": [
    "def title(name):\n",
    "    \"\"\"\n",
    "    writes title in neginex.\n",
    "  \n",
    "    Parameters:\n",
    "    name (str): Titles that are used both as a title and as outer and inner locations\n",
    "\n",
    "    Returns:\n",
    "    string: outer and inner\n",
    "  \n",
    "    \"\"\"\n",
    "    title = f'##{name}'\n",
    "    return f'{title} \\n set ${name}_upstream http://{name};\\n \\n'\n"
   ]
  },
  {
   "cell_type": "code",
   "execution_count": 17,
   "id": "49db5e32",
   "metadata": {},
   "outputs": [],
   "source": [
    "# parser = argparse.ArgumentParser(description='The file  want to make negix from')\n",
    "# parser.add_argument(\"docker\",help='The file  want to make negix from', default='docker-compose.yml')\n",
    "# args = parser.parse_args()\n",
    "# docker = args.docker()\n",
    "\n",
    "#Creating a dictionary of titles along with endpoints\n",
    "dic = dict()\n",
    "with open('docker-compose.yml', encoding=\"utf-8\") as docer_file:\n",
    "    deta = docer_file.readlines()\n",
    "    for line in deta:\n",
    "        count = 0\n",
    "        #count space \n",
    "        for item in line[:5]:\n",
    "            if item == ' ':\n",
    "                count += 1\n",
    "            else:\n",
    "                break\n",
    "        #Find based on distance\n",
    "        if count == 2 :\n",
    "            line_ = line.strip().strip(':').strip('# ')\n",
    "            # Add titles as key (along with a list of values that are empty)\n",
    "            dic[line_] = []\n",
    "            pass\n",
    "        \n",
    "        if 'ENDPOINT'  in line:\n",
    "                line_end_point = line.strip().strip(':').strip('# ').strip('-')\n",
    "                end_point = line_end_point.split('=')[-1]\n",
    "                # Add endpoint as value\n",
    "                dic[line_].append(end_point)\n",
    "with open('nginx', 'w+') as nginx:\n",
    "    nginx.write(server())\n",
    "    for key, value in dic.items():\n",
    "        if value:\n",
    "            nginx.write(title(key))\n",
    "            for i in range(len(value)):\n",
    "                nginx.write(outer_inner(value[i]))\n",
    "      "
   ]
  },
  {
   "cell_type": "code",
   "execution_count": null,
   "id": "98d012ab",
   "metadata": {},
   "outputs": [],
   "source": []
  }
 ],
 "metadata": {
  "kernelspec": {
   "display_name": "Python 3 (ipykernel)",
   "language": "python",
   "name": "python3"
  },
  "language_info": {
   "codemirror_mode": {
    "name": "ipython",
    "version": 3
   },
   "file_extension": ".py",
   "mimetype": "text/x-python",
   "name": "python",
   "nbconvert_exporter": "python",
   "pygments_lexer": "ipython3",
   "version": "3.10.5"
  }
 },
 "nbformat": 4,
 "nbformat_minor": 5
}
