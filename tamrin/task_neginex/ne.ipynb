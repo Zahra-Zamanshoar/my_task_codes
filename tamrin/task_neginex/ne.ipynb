{
 "cells": [
  {
   "cell_type": "code",
   "execution_count": 127,
   "id": "6dd990d0",
   "metadata": {},
   "outputs": [],
   "source": [
    "import os\n",
    "import argparse"
   ]
  },
  {
   "cell_type": "code",
   "execution_count": 4,
   "id": "369bb98e",
   "metadata": {},
   "outputs": [],
   "source": [
    "def outer_inner( End_point, point):\n",
    "    \"\"\"\n",
    "    writes outer and inner in neginex.\n",
    "  \n",
    "    Parameters:\n",
    "    End_point (str): End point that  used  as outer and inner locations\n",
    "    point: point that  used  as outer and inner locations\n",
    "  \n",
    "    Returns:\n",
    "    string: outer and inner\n",
    "  \n",
    "    \"\"\"\n",
    "    outer = '## outer users'\n",
    "    \n",
    "    inner = \"## inner users, has no version because it should be updated instantly\"\n",
    "    \n",
    "    common = 'proxy_set_header Host $host; \\n proxy_set_header X-Real-IP $remote_addr;'\\\n",
    "    '\\n proxy_set_header X-Forwarded-For $proxy_add_x_forwarded_for' \n",
    "\n",
    "    return print(f'{outer:2s} \\n location ^~ /ai{End_point} \\n  \\n proxy_pass $address_parser_upstream:660{point}; \\n {common}')\n",
    "\n",
    "\n",
    "# def server(valid=30, size='20M'):\n",
    "#     return print(f'  listen 80;\\n  server_name 0.0.0.0;\\n  resolver 127.0.0.11 valid=30s;\\n  client_max_body_size 20M;')\n"
   ]
  },
  {
   "cell_type": "code",
   "execution_count": 5,
   "id": "765113ad",
   "metadata": {},
   "outputs": [],
   "source": [
    "def title(name):\n",
    "    \"\"\"\n",
    "    writes title in neginex.\n",
    "  \n",
    "    Parameters:\n",
    "    name (str): Titles that are used both as a title and as outer and inner locations\n",
    "\n",
    "    Returns:\n",
    "    string: outer and inner\n",
    "  \n",
    "    \"\"\"\n",
    "    title = f'##{name}'\n",
    "    return print(f'{title} \\n set $region_identifier_upstream http://{name};')\n"
   ]
  },
  {
   "cell_type": "code",
   "execution_count": 58,
   "id": "99934aeb",
   "metadata": {
    "scrolled": true
   },
   "outputs": [
    {
     "data": {
      "text/plain": [
       "{'address_parser': ['/address_parser/parse'],\n",
       " 'geocoding': [],\n",
       " 'region_identifier': ['/geocoding/areaLocator'],\n",
       " 'Audio': [],\n",
       " 'audio_diarization': ['/speech/diarize'],\n",
       " 'speech_to_text': ['/speech/stt'],\n",
       " 'audio_gender_recognition': ['/speech/gender'],\n",
       " 'crud_data': ['/ai/labeling/crud_openapi.json'],\n",
       " 'speech_to_text_stream': [],\n",
       " 'audio_gender_recognition_stream': [],\n",
       " 'update_db_gender': [],\n",
       " 'update_db_stt': [],\n",
       " 'Databases': [],\n",
       " 'elasticsearch': [],\n",
       " 'kibana': [],\n",
       " 'minio': [],\n",
       " 'postgres': [],\n",
       " 'pgadmin': [],\n",
       " 'stream': [],\n",
       " 'kafdrop': [],\n",
       " 'zookeeper': [],\n",
       " 'kafka': []}"
      ]
     },
     "execution_count": 58,
     "metadata": {},
     "output_type": "execute_result"
    }
   ],
   "source": [
    "# parser = argparse.ArgumentParser()\n",
    "# parser.add_argument(\"docker\",help='The file  want to make negix from', default='proxy', 'elasticsearch')\n",
    "# parser.add_argument(\"--list\",help='A list that contains names that do not need to be noted when reading Docker', default=lst)\n",
    "# parser.add_argument(\"--server\",help='A Server use it', default=)\n",
    "# # HOST = \"http://192.168.1.119\"\n",
    "# # # HOST = \"http://127.0.0.1\"\n",
    "# # PORT_NUMBER = 8010\n",
    "# # END_POINT = '/ai/address_parser/parse'\n",
    "# # parser.add_argument(\"--endpoint_url\", default=f\"{HOST}:{PORT_NUMBER}{END_POINT}\")\n",
    "# args = parser.parse_args()\n",
    "# docker = args.docker()\n",
    "lst = []\n",
    "with open('docker-compose.yml', encoding=\"utf-8\") as docer_file:\n",
    "    deta = docer_file.readlines()\n",
    "    for line in deta:\n",
    "        count = 0\n",
    "        #count space \n",
    "        for item in line[:5]:\n",
    "            if item == ' ':\n",
    "                count += 1\n",
    "            else:\n",
    "                break\n",
    "#         if 'END_POINT' in line.strip().strip(':').strip('-'):\n",
    "#             End_point = line.strip('- END_POINT=/')\n",
    "        #Find based on distance\n",
    "        if count == 2 :\n",
    "            line = line.strip().strip(':').strip('# ')\n",
    "            lst.append(line)\n",
    "#             if 'END_POINT' in line.strip().strip(':').strip('-'):\n",
    "#                 print(line)\n",
    "#             line_ = line.strip().strip(':').strip('# ')\n",
    "#             #Does not consider the items listed\n",
    "#             if 'END_POINT' == line_:\n",
    "#                 print(line_)\n",
    "i = 0\n",
    "# lst_ = []\n",
    "# lst_1 = []\n",
    "# #identify End point whit titile\n",
    "# while i < len(lst):\n",
    "#     for line in deta:\n",
    "#         line = line.strip().strip(':').strip('# ').strip('-')\n",
    "#         if line == lst[i]:\n",
    "#             i += 1\n",
    "#             break\n",
    "#         else:\n",
    "#             if 'END_POINT' in line:\n",
    "#                 if line not in lst_:\n",
    "#                     lst_.append(line)\n",
    "#                     lst_1.append((lst[i], line))\n",
    "#                 End = str(line)\n",
    "#                 End_point = End.split('=')[-1]\n",
    "                \n",
    "#         outer_inner(lst[i], End_point)\n",
    "        \n",
    "i = 0\n",
    "lst_point = []\n",
    "dic = dict()\n",
    "while i < len(lst):\n",
    "    for line in deta:\n",
    "        line = line.strip().strip(':').strip('# ').strip('-')\n",
    "        if line == lst[i]:\n",
    "            i += 1\n",
    "            break\n",
    "        \n",
    "        else:\n",
    "            \n",
    "            if 'ENDPOINT'  in line:\n",
    "                dic[lst[i-1]] = []\n",
    "                if line not in lst_point :\n",
    "                    lst_point.append(line)\n",
    "                    end_point = line.split('=')[-1]\n",
    "                    point = end_point.split('/')[-1]\n",
    "                    dic[lst[i-1]].append(end_point)\n",
    "                    \n",
    "#                     end_point = point.split('/')[-2:]\n",
    "#                     outer_inner(lst[i-1],end_point)  \n",
    "dic         "
   ]
  },
  {
   "cell_type": "code",
   "execution_count": 61,
   "id": "49db5e32",
   "metadata": {},
   "outputs": [
    {
     "data": {
      "text/plain": [
       "{'proxy': [],\n",
       " 'address_parser': [],\n",
       " 'geocoding': [],\n",
       " 'region_identifier': [],\n",
       " 'Audio': [],\n",
       " 'audio_diarization': [],\n",
       " 'speech_to_text': [],\n",
       " 'audio_gender_recognition': [],\n",
       " 'crud_data': [],\n",
       " 'speech_to_text_stream': [],\n",
       " 'audio_gender_recognition_stream': [],\n",
       " 'update_db_gender': [],\n",
       " 'update_db_stt': [],\n",
       " 'Databases': [],\n",
       " 'elasticsearch': [],\n",
       " 'kibana': [],\n",
       " 'minio': [],\n",
       " 'postgres': [],\n",
       " 'pgadmin': [],\n",
       " 'stream': [],\n",
       " 'kafdrop': [],\n",
       " 'zookeeper': [],\n",
       " 'kafka': [],\n",
       " 'elasticsearch-data-volume': []}"
      ]
     },
     "execution_count": 61,
     "metadata": {},
     "output_type": "execute_result"
    }
   ],
   "source": [
    "# parser = argparse.ArgumentParser()\n",
    "# parser.add_argument(\"docker\",help='The file  want to make negix from', default='proxy', 'elasticsearch')\n",
    "# parser.add_argument(\"--list\",help='A list that contains names that do not need to be noted when reading Docker', default=lst)\n",
    "# parser.add_argument(\"--server\",help='A Server use it', default=)\n",
    "# # HOST = \"http://192.168.1.119\"\n",
    "# # # HOST = \"http://127.0.0.1\"\n",
    "# # PORT_NUMBER = 8010\n",
    "# # END_POINT = '/ai/address_parser/parse'\n",
    "# # parser.add_argument(\"--endpoint_url\", default=f\"{HOST}:{PORT_NUMBER}{END_POINT}\")\n",
    "# args = parser.parse_args()\n",
    "# docker = args.docker()\n",
    "dic = dict()\n",
    "with open('docker-compose.yml', encoding=\"utf-8\") as docer_file:\n",
    "    deta = docer_file.readlines()\n",
    "    for line in deta:\n",
    "        count = 0\n",
    "        #count space \n",
    "        for item in line[:5]:\n",
    "            if item == ' ':\n",
    "                count += 1\n",
    "            else:\n",
    "                break\n",
    "#         if 'END_POINT' in line.strip().strip(':').strip('-'):\n",
    "#             End_point = line.strip('- END_POINT=/')\n",
    "        #Find based on distance\n",
    "        if count == 2 :\n",
    "            line = line.strip().strip(':').strip('# ')\n",
    "            dic[line] = []\n",
    "        for line in deta:\n",
    "        if 'ENDPOINT'  in line:\n",
    "# i = 0\n",
    "# # lst_ = []\n",
    "# # lst_1 = []\n",
    "# # #identify End point whit titile\n",
    "# # while i < len(lst):\n",
    "# #     for line in deta:\n",
    "# #         line = line.strip().strip(':').strip('# ').strip('-')\n",
    "# #         if line == lst[i]:\n",
    "# #             i += 1\n",
    "# #             break\n",
    "# #         else:\n",
    "# #             if 'END_POINT' in line:\n",
    "# #                 if line not in lst_:\n",
    "# #                     lst_.append(line)\n",
    "# #                     lst_1.append((lst[i], line))\n",
    "# #                 End = str(line)\n",
    "# #                 End_point = End.split('=')[-1]\n",
    "                \n",
    "# #         outer_inner(lst[i], End_point)\n",
    "        \n",
    "# i = 0\n",
    "# lst_point = []\n",
    "# dic = dict()\n",
    "# while i < len(lst):\n",
    "#     for line in deta:\n",
    "#         line = line.strip().strip(':').strip('# ').strip('-')\n",
    "#         if line == lst[i]:\n",
    "#             i += 1\n",
    "#             break\n",
    "        \n",
    "#         else:\n",
    "            \n",
    "            \n",
    "                dic[lst[i-1]] = []\n",
    "                if line not in lst_point :\n",
    "                    lst_point.append(line)\n",
    "                    end_point = line.split('=')[-1]\n",
    "                    point = end_point.split('/')[-1]\n",
    "                    dic[lst[i-1]].append(end_point)\n",
    "                    \n",
    "# #                     end_point = point.split('/')[-2:]\n",
    "# #                     outer_inner(lst[i-1],end_point)  \n",
    "dic         "
   ]
  },
  {
   "cell_type": "code",
   "execution_count": 49,
   "id": "17c1dbde",
   "metadata": {},
   "outputs": [
    {
     "ename": "NameError",
     "evalue": "name 'difultdict' is not defined",
     "output_type": "error",
     "traceback": [
      "\u001b[1;31m---------------------------------------------------------------------------\u001b[0m",
      "\u001b[1;31mNameError\u001b[0m                                 Traceback (most recent call last)",
      "Input \u001b[1;32mIn [49]\u001b[0m, in \u001b[0;36m<cell line: 2>\u001b[1;34m()\u001b[0m\n\u001b[0;32m      1\u001b[0m dic \u001b[38;5;241m=\u001b[39m \u001b[38;5;28mdict\u001b[39m() \n\u001b[1;32m----> 2\u001b[0m dic[\u001b[38;5;124m'\u001b[39m\u001b[38;5;124maddress\u001b[39m\u001b[38;5;124m'\u001b[39m] \u001b[38;5;241m=\u001b[39m \u001b[43mdifultdict\u001b[49m()\n\u001b[0;32m      3\u001b[0m dic\n",
      "\u001b[1;31mNameError\u001b[0m: name 'difultdict' is not defined"
     ]
    }
   ],
   "source": [
    "dic = dict() \n",
    "dic['address'] = difultdict()\n",
    "dic"
   ]
  },
  {
   "cell_type": "code",
   "execution_count": 47,
   "id": "1d11c0bd",
   "metadata": {},
   "outputs": [
    {
     "data": {
      "text/plain": [
       "{'address': [1, 2, 2, 2, 2]}"
      ]
     },
     "execution_count": 47,
     "metadata": {},
     "output_type": "execute_result"
    }
   ],
   "source": [
    "dic['address'].append(2)\n",
    "dic"
   ]
  },
  {
   "cell_type": "code",
   "execution_count": 48,
   "id": "632233f9",
   "metadata": {},
   "outputs": [
    {
     "data": {
      "text/plain": [
       "{'address': [1]}"
      ]
     },
     "execution_count": 48,
     "metadata": {},
     "output_type": "execute_result"
    }
   ],
   "source": [
    "dic['address'] = [1]\n",
    "dic"
   ]
  },
  {
   "cell_type": "code",
   "execution_count": 24,
   "id": "be64e345",
   "metadata": {},
   "outputs": [
    {
     "data": {
      "text/plain": [
       "['/parse/ggg']"
      ]
     },
     "execution_count": 24,
     "metadata": {},
     "output_type": "execute_result"
    }
   ],
   "source": [
    "z = 'END_POINT=/parse/ggg'\n",
    "z.split('=')[-1:]"
   ]
  },
  {
   "cell_type": "code",
   "execution_count": 71,
   "id": "d93d3281",
   "metadata": {},
   "outputs": [
    {
     "ename": "TypeError",
     "evalue": "outer_inner() missing 2 required positional arguments: 'name' and 'End_point'",
     "output_type": "error",
     "traceback": [
      "\u001b[1;31m---------------------------------------------------------------------------\u001b[0m",
      "\u001b[1;31mTypeError\u001b[0m                                 Traceback (most recent call last)",
      "Input \u001b[1;32mIn [71]\u001b[0m, in \u001b[0;36m<cell line: 1>\u001b[1;34m()\u001b[0m\n\u001b[1;32m----> 1\u001b[0m \u001b[43mouter_inner\u001b[49m\u001b[43m(\u001b[49m\u001b[43m)\u001b[49m\n",
      "\u001b[1;31mTypeError\u001b[0m: outer_inner() missing 2 required positional arguments: 'name' and 'End_point'"
     ]
    }
   ],
   "source": [
    "outer_inner()\n",
    "if 'END_POINT' in line :"
   ]
  },
  {
   "cell_type": "code",
   "execution_count": 175,
   "id": "e966931d",
   "metadata": {},
   "outputs": [
    {
     "name": "stdout",
     "output_type": "stream",
     "text": [
      "elasticsearch\n",
      "kibana\n",
      " elasticsearch-data-volume\n"
     ]
    }
   ],
   "source": [
    "lst = ['  proxy:', 'elasticsearch', 'kibana', ' elasticsearch-data-volume']\n",
    "for item in lst:\n",
    "    if item != '  proxy:':\n",
    "        print(item)"
   ]
  },
  {
   "cell_type": "code",
   "execution_count": 53,
   "id": "622f4907",
   "metadata": {},
   "outputs": [
    {
     "name": "stdout",
     "output_type": "stream",
     "text": [
      "Geeksforgeeks kjaj\n"
     ]
    }
   ],
   "source": [
    "\n",
    "s1 = 'Geeksforgeeks'\n",
    "s2 = 'ksforgeeks'\n",
    "s3 = 'forgeeks'\n",
    "s4 = 'geeks'\n",
    "  \n",
    "print(f'{s1 : >13} kjaj')"
   ]
  },
  {
   "cell_type": "code",
   "execution_count": 191,
   "id": "f6fb8fa6",
   "metadata": {},
   "outputs": [
    {
     "data": {
      "text/plain": [
       "'proxy'"
      ]
     },
     "execution_count": 191,
     "metadata": {},
     "output_type": "execute_result"
    }
   ],
   "source": [
    "z = '  proxy:'\n",
    "z.strip(': ')"
   ]
  },
  {
   "cell_type": "code",
   "execution_count": 47,
   "id": "c781ae90",
   "metadata": {
    "scrolled": false
   },
   "outputs": [
    {
     "name": "stdout",
     "output_type": "stream",
     "text": [
      "[(1, 2), (2, 3), (3, 4), (4, 5)]\n"
     ]
    }
   ],
   "source": [
    "Z = [1, 2, 3, 4, 5]\n",
    "m = [2, 3, 4, 5]\n",
    "# print(f'{[(item, i) for item,i in zip(Z, m)]}')\n",
    "a = [(item, i) for item,i in zip(Z, m)]\n",
    "print(f'{a}')"
   ]
  },
  {
   "cell_type": "code",
   "execution_count": null,
   "id": "40be74cc",
   "metadata": {},
   "outputs": [],
   "source": []
  },
  {
   "cell_type": "code",
   "execution_count": null,
   "id": "1e35981b",
   "metadata": {},
   "outputs": [],
   "source": [
    "Z = [1, 2, 3, 4, 5]\n",
    "[n ]"
   ]
  },
  {
   "cell_type": "code",
   "execution_count": 41,
   "id": "a3af574f",
   "metadata": {},
   "outputs": [
    {
     "ename": "NameError",
     "evalue": "name 'n' is not defined",
     "output_type": "error",
     "traceback": [
      "\u001b[1;31m---------------------------------------------------------------------------\u001b[0m",
      "\u001b[1;31mNameError\u001b[0m                                 Traceback (most recent call last)",
      "Input \u001b[1;32mIn [41]\u001b[0m, in \u001b[0;36m<cell line: 1>\u001b[1;34m()\u001b[0m\n\u001b[1;32m----> 1\u001b[0m \u001b[38;5;28mprint\u001b[39m([n \u001b[38;5;28;01mfor\u001b[39;00m item \u001b[38;5;129;01min\u001b[39;00m Z])\n",
      "Input \u001b[1;32mIn [41]\u001b[0m, in \u001b[0;36m<listcomp>\u001b[1;34m(.0)\u001b[0m\n\u001b[1;32m----> 1\u001b[0m \u001b[38;5;28mprint\u001b[39m([\u001b[43mn\u001b[49m \u001b[38;5;28;01mfor\u001b[39;00m item \u001b[38;5;129;01min\u001b[39;00m Z])\n",
      "\u001b[1;31mNameError\u001b[0m: name 'n' is not defined"
     ]
    }
   ],
   "source": [
    "print([n for item in Z])"
   ]
  },
  {
   "cell_type": "code",
   "execution_count": 16,
   "id": "208099b1",
   "metadata": {},
   "outputs": [],
   "source": [
    "dic = dict()\n",
    "lst = []\n",
    "for i in range(0,10):\n",
    "    lst.append(i)\n",
    "    dic['zahra'] = lst"
   ]
  },
  {
   "cell_type": "code",
   "execution_count": 17,
   "id": "de61ee85",
   "metadata": {},
   "outputs": [
    {
     "data": {
      "text/plain": [
       "{'zahra': [0, 1, 2, 3, 4, 5, 6, 7, 8, 9]}"
      ]
     },
     "execution_count": 17,
     "metadata": {},
     "output_type": "execute_result"
    }
   ],
   "source": [
    "dic"
   ]
  },
  {
   "cell_type": "code",
   "execution_count": null,
   "id": "e72ec5e9",
   "metadata": {},
   "outputs": [],
   "source": []
  }
 ],
 "metadata": {
  "kernelspec": {
   "display_name": "Python 3 (ipykernel)",
   "language": "python",
   "name": "python3"
  },
  "language_info": {
   "codemirror_mode": {
    "name": "ipython",
    "version": 3
   },
   "file_extension": ".py",
   "mimetype": "text/x-python",
   "name": "python",
   "nbconvert_exporter": "python",
   "pygments_lexer": "ipython3",
   "version": "3.10.5"
  }
 },
 "nbformat": 4,
 "nbformat_minor": 5
}
