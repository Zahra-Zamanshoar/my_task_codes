{
 "cells": [
  {
   "cell_type": "code",
   "execution_count": 16,
   "id": "3a9e3493",
   "metadata": {},
   "outputs": [
    {
     "ename": "ModuleNotFoundError",
     "evalue": "No module named 'deep_utils'",
     "output_type": "error",
     "traceback": [
      "\u001b[1;31m---------------------------------------------------------------------------\u001b[0m",
      "\u001b[1;31mModuleNotFoundError\u001b[0m                       Traceback (most recent call last)",
      "Input \u001b[1;32mIn [16]\u001b[0m, in \u001b[0;36m<cell line: 6>\u001b[1;34m()\u001b[0m\n\u001b[0;32m      3\u001b[0m \u001b[38;5;28;01mimport\u001b[39;00m \u001b[38;5;21;01mnumpy\u001b[39;00m \u001b[38;5;28;01mas\u001b[39;00m \u001b[38;5;21;01mnp\u001b[39;00m\n\u001b[0;32m      4\u001b[0m \u001b[38;5;66;03m# from deep_utils.utils.logging_utils.logging_utils import log_print, value_error_log\u001b[39;00m\n\u001b[0;32m      5\u001b[0m \u001b[38;5;66;03m# from deep_utils import deep_utils\u001b[39;00m\n\u001b[1;32m----> 6\u001b[0m \u001b[38;5;28;01mfrom\u001b[39;00m \u001b[38;5;21;01mdeep_utils\u001b[39;00m \u001b[38;5;28;01mimport\u001b[39;00m Box\n\u001b[0;32m      8\u001b[0m \u001b[38;5;28;01mclass\u001b[39;00m \u001b[38;5;21;01mPoint\u001b[39;00m:\n\u001b[0;32m      9\u001b[0m     \u001b[38;5;28;01mclass\u001b[39;00m \u001b[38;5;21;01mPointSource\u001b[39;00m(Enum):\n",
      "\u001b[1;31mModuleNotFoundError\u001b[0m: No module named 'deep_utils'"
     ]
    }
   ],
   "source": [
    "from enum import Enum\n",
    "from typing import Sequence, Union\n",
    "import numpy as np\n",
    "# from deep_utils.utils.logging_utils.logging_utils import log_print, value_error_log\n",
    "# from deep_utils import deep_utils\n",
    "from deep_utils import Box\n",
    "\n",
    "class Point:\n",
    "    class PointSource(Enum):\n",
    "        Torch = \"Torch\"\n",
    "        TF = \"TF\"\n",
    "        CV = \"CV\"\n",
    "        Numpy = \"Numpy\"\n",
    "\n",
    "    @staticmethod\n",
    "    def point2point(\n",
    "            point,\n",
    "            in_source,\n",
    "            to_source,\n",
    "            in_relative=None,\n",
    "            to_relative=None,\n",
    "            shape=None,\n",
    "            shape_source=None,\n",
    "    ):\n",
    "        if point is None or len(point) == 0:\n",
    "            pass\n",
    "        elif isinstance(point[0], (tuple, list, np.ndarray)):\n",
    "            point = [\n",
    "                Point._point2point(\n",
    "                    p,\n",
    "                    in_source=in_source,\n",
    "                    to_source=to_source,\n",
    "                    in_relative=in_relative,\n",
    "                    to_relative=to_relative,\n",
    "                    shape=shape,\n",
    "                    shape_source=shape_source,\n",
    "                )\n",
    "                for p in point\n",
    "            ]\n",
    "        else:\n",
    "            point = Point._point2point(\n",
    "                point,\n",
    "                in_source=in_source,\n",
    "                to_source=to_source,\n",
    "                in_relative=in_relative,\n",
    "                to_relative=to_relative,\n",
    "                shape=shape,\n",
    "                shape_source=shape_source,\n",
    "            )\n",
    "        return point\n",
    "\n",
    "    @staticmethod\n",
    "    def _point2point(\n",
    "            point,\n",
    "            in_source : Union[str, PointSource],\n",
    "            to_source : Union[str, PointSource],\n",
    "            in_relative=None,\n",
    "            to_relative=None,\n",
    "            shape=None,\n",
    "            shape_source=None,\n",
    "    ):\n",
    "        if isinstance(in_source, Point.PointSource):\n",
    "            in_source = in_source.value\n",
    "        if isinstance(to_source, Point.PointSource):\n",
    "            to_source = to_source.value\n",
    "        in_source =in_source.lower() \n",
    "        to_source =to_source.lower()\n",
    "\n",
    "        if (\n",
    "                in_source in [Point.PointSource.Torch.value.lower(),\n",
    "                              Point.PointSource.CV.value.lower()]\n",
    "                and to_source in [Point.PointSource.TF.value.lower(), Point.PointSource.Numpy.value.lower()]\n",
    "        ) or (\n",
    "                in_source in [Point.PointSource.TF.value.lower(),\n",
    "                              Point.PointSource.Numpy.value.lower()]\n",
    "                and to_source in [Point.PointSource.Torch.value, Point.PointSource.CV.value.lower()]\n",
    "        ):\n",
    "            point = (point[1], point[0])\n",
    "        elif (\n",
    "                (in_source is None and to_source is None)\n",
    "                or in_source == to_source\n",
    "                or (\n",
    "                        in_source in [Point.PointSource.Torch.value.lower(),\n",
    "                                      Point.PointSource.CV.value.lower()]\n",
    "                        and to_source\n",
    "                        in [Point.PointSource.CV.value, Point.PointSource.Torch.value.lower()]\n",
    "                )\n",
    "                or (\n",
    "                        in_source in [Point.PointSource.TF.value.lower(),\n",
    "                                      Point.PointSource.Numpy.value.lower()]\n",
    "                        and to_source\n",
    "                        in [Point.PointSource.TF.value.lower(), Point.PointSource.Numpy.value.lower()]\n",
    "                )\n",
    "        ):\n",
    "            pass\n",
    "        else:\n",
    "            raise Exception(\n",
    "                f\"Conversion form {in_source} to {to_source} is not Supported.\"\n",
    "                f\" Supported types: {Box._get_enum_names(Point.PointSource)}\"\n",
    "            )\n",
    "        if to_source is not None and shape_source is not None and shape is not None:\n",
    "            img_w, img_h = Point.point2point(\n",
    "                shape, in_source=shape_source, to_source=to_source\n",
    "            )\n",
    "            if not in_relative and to_relative:\n",
    "                p1, p2 = point\n",
    "                point = [p1 / img_w, p2 / img_h]\n",
    "            elif in_relative and not to_relative:\n",
    "                p1, p2 = point\n",
    "                point = [p1 * img_w, p2 * img_h]\n",
    "        return point\n",
    "\n",
    "    @staticmethod\n",
    "    def _put_point(\n",
    "            img,\n",
    "            point,\n",
    "            radius,\n",
    "            color=(0, 255, 0),\n",
    "            thickness=None,\n",
    "            lineType=None,\n",
    "            shift=None,\n",
    "            in_source=\"Numpy\",\n",
    "    ):\n",
    "        import cv2\n",
    "\n",
    "        if not isinstance(point, int):\n",
    "            point = (int(point[0]), int(point[1]))\n",
    "        point = Point.point2point(point, in_source=in_source, to_source=\"CV\")\n",
    "        return cv2.circle(img, point, radius, color, thickness, lineType, shift)\n",
    "\n",
    "    @staticmethod\n",
    "    def put_point(\n",
    "            img,\n",
    "            point,\n",
    "            radius,\n",
    "            color=(0, 255, 0),\n",
    "            thickness=None,\n",
    "            lineType=None,\n",
    "            shift=None,\n",
    "            in_source=\"Numpy\",\n",
    "    ):\n",
    "        if point is None or len(point) == 0:\n",
    "            pass\n",
    "        elif isinstance(point[0], (tuple, list, np.ndarray)):\n",
    "            for p in point:\n",
    "                img = Point._put_point(\n",
    "                    img, p, radius, color, thickness, lineType, shift, in_source\n",
    "                )\n",
    "        else:\n",
    "            img = Point._put_point(\n",
    "                img, point, radius, color, thickness, lineType, shift, in_source\n",
    "            )\n",
    "        return img\n",
    "\n",
    "    @staticmethod\n",
    "    def sort_points(pts: Union[list, tuple]):\n",
    "        \"\"\"\n",
    "        Sort a list of 4 points based on upper-left, upper-right, down-right, down-left\n",
    "        :param pts:\n",
    "        :return:\n",
    "        \"\"\"\n",
    "        top_points = sorted(pts, key=lambda l: l[0])[:2]\n",
    "        top_left = min(top_points, key=lambda l: l[1])\n",
    "        top_right = max(top_points, key=lambda l: l[1])\n",
    "        pts.remove(top_left)\n",
    "        pts.remove(top_right)\n",
    "        down_left = min(pts, key=lambda l: l[1])\n",
    "        down_right = max(pts, key=lambda l: l[1])\n",
    "        return top_left, top_right, down_right, down_left"
   ]
  },
  {
   "cell_type": "code",
   "execution_count": 17,
   "id": "4b7a747b",
   "metadata": {},
   "outputs": [
    {
     "ename": "TypeError",
     "evalue": "Point._point2point() missing 1 required positional argument: 'in_source'",
     "output_type": "error",
     "traceback": [
      "\u001b[1;31m---------------------------------------------------------------------------\u001b[0m",
      "\u001b[1;31mTypeError\u001b[0m                                 Traceback (most recent call last)",
      "Input \u001b[1;32mIn [17]\u001b[0m, in \u001b[0;36m<cell line: 1>\u001b[1;34m()\u001b[0m\n\u001b[1;32m----> 1\u001b[0m \u001b[43mPoint\u001b[49m\u001b[38;5;241;43m.\u001b[39;49m\u001b[43m_point2point\u001b[49m\u001b[43m(\u001b[49m\u001b[43mpoint\u001b[49m\u001b[38;5;241;43m=\u001b[39;49m\u001b[43m[\u001b[49m\u001b[38;5;241;43m1\u001b[39;49m\u001b[43m,\u001b[49m\u001b[43m \u001b[49m\u001b[38;5;241;43m5\u001b[39;49m\u001b[43m]\u001b[49m\u001b[43m,\u001b[49m\u001b[43m \u001b[49m\u001b[43mshape_source\u001b[49m\u001b[38;5;241;43m=\u001b[39;49m\u001b[43mPoint\u001b[49m\u001b[38;5;241;43m.\u001b[39;49m\u001b[43mPointSource\u001b[49m\u001b[38;5;241;43m.\u001b[39;49m\u001b[43mTorch\u001b[49m\u001b[43m,\u001b[49m\u001b[43m \u001b[49m\u001b[43mto_source\u001b[49m\u001b[38;5;241;43m=\u001b[39;49m\u001b[43mPoint\u001b[49m\u001b[38;5;241;43m.\u001b[39;49m\u001b[43mPointSource\u001b[49m\u001b[38;5;241;43m.\u001b[39;49m\u001b[43mTorch\u001b[49m\u001b[43m)\u001b[49m\n",
      "\u001b[1;31mTypeError\u001b[0m: Point._point2point() missing 1 required positional argument: 'in_source'"
     ]
    }
   ],
   "source": [
    "Point._point2point(point=[1, 5], shape_source=Point.PointSource.Torch, to_source=Point.PointSource.Torch)"
   ]
  },
  {
   "cell_type": "code",
   "execution_count": 11,
   "id": "6e37d3fa",
   "metadata": {},
   "outputs": [
    {
     "data": {
      "text/plain": [
       "<function numpy.array>"
      ]
     },
     "execution_count": 11,
     "metadata": {},
     "output_type": "execute_result"
    }
   ],
   "source": [
    "np.array"
   ]
  },
  {
   "cell_type": "code",
   "execution_count": 12,
   "id": "1d85cba6",
   "metadata": {},
   "outputs": [
    {
     "ename": "NameError",
     "evalue": "name 'put_point' is not defined",
     "output_type": "error",
     "traceback": [
      "\u001b[1;31m---------------------------------------------------------------------------\u001b[0m",
      "\u001b[1;31mNameError\u001b[0m                                 Traceback (most recent call last)",
      "Input \u001b[1;32mIn [12]\u001b[0m, in \u001b[0;36m<cell line: 1>\u001b[1;34m()\u001b[0m\n\u001b[1;32m----> 1\u001b[0m \u001b[43mput_point\u001b[49m\u001b[38;5;241m.\u001b[39mcolor\n",
      "\u001b[1;31mNameError\u001b[0m: name 'put_point' is not defined"
     ]
    }
   ],
   "source": [
    "put_point.color"
   ]
  },
  {
   "cell_type": "code",
   "execution_count": 13,
   "id": "e38300b4",
   "metadata": {},
   "outputs": [
    {
     "ename": "NameError",
     "evalue": "name 'PointSource' is not defined",
     "output_type": "error",
     "traceback": [
      "\u001b[1;31m---------------------------------------------------------------------------\u001b[0m",
      "\u001b[1;31mNameError\u001b[0m                                 Traceback (most recent call last)",
      "Input \u001b[1;32mIn [13]\u001b[0m, in \u001b[0;36m<cell line: 1>\u001b[1;34m()\u001b[0m\n\u001b[1;32m----> 1\u001b[0m \u001b[43mPointSource\u001b[49m\u001b[38;5;241m.\u001b[39mTorch\n",
      "\u001b[1;31mNameError\u001b[0m: name 'PointSource' is not defined"
     ]
    }
   ],
   "source": [
    "PointSource.Torch"
   ]
  },
  {
   "cell_type": "code",
   "execution_count": 14,
   "id": "0fce14f0",
   "metadata": {},
   "outputs": [
    {
     "ename": "NameError",
     "evalue": "name 'Box' is not defined",
     "output_type": "error",
     "traceback": [
      "\u001b[1;31m---------------------------------------------------------------------------\u001b[0m",
      "\u001b[1;31mNameError\u001b[0m                                 Traceback (most recent call last)",
      "Input \u001b[1;32mIn [14]\u001b[0m, in \u001b[0;36m<cell line: 1>\u001b[1;34m()\u001b[0m\n\u001b[1;32m----> 1\u001b[0m \u001b[43mPoint\u001b[49m\u001b[38;5;241;43m.\u001b[39;49m\u001b[43m_point2point\u001b[49m\u001b[43m(\u001b[49m\u001b[43mpoint\u001b[49m\u001b[38;5;241;43m=\u001b[39;49m\u001b[43m[\u001b[49m\u001b[38;5;241;43m1\u001b[39;49m\u001b[43m,\u001b[49m\u001b[43m \u001b[49m\u001b[38;5;241;43m5\u001b[39;49m\u001b[43m]\u001b[49m\u001b[43m,\u001b[49m\u001b[43m \u001b[49m\u001b[43mshape\u001b[49m\u001b[38;5;241;43m=\u001b[39;49m\u001b[43m[\u001b[49m\u001b[38;5;241;43m25\u001b[39;49m\u001b[43m,\u001b[49m\u001b[38;5;241;43m100\u001b[39;49m\u001b[43m]\u001b[49m\u001b[43m,\u001b[49m\u001b[43min_relative\u001b[49m\u001b[38;5;241;43m=\u001b[39;49m\u001b[38;5;28;43;01mFalse\u001b[39;49;00m\u001b[43m \u001b[49m\u001b[43m,\u001b[49m\u001b[43mto_relative\u001b[49m\u001b[43m \u001b[49m\u001b[38;5;241;43m=\u001b[39;49m\u001b[43m \u001b[49m\u001b[38;5;28;43;01mTrue\u001b[39;49;00m\u001b[43m,\u001b[49m\u001b[43min_source\u001b[49m\u001b[38;5;241;43m=\u001b[39;49m\u001b[38;5;124;43m'\u001b[39;49m\u001b[38;5;124;43mNumpy\u001b[39;49m\u001b[38;5;124;43m'\u001b[39;49m\u001b[43m,\u001b[49m\u001b[43mto_source\u001b[49m\u001b[43m \u001b[49m\u001b[38;5;241;43m=\u001b[39;49m\u001b[38;5;124;43m'\u001b[39;49m\u001b[38;5;124;43mtorch\u001b[39;49m\u001b[38;5;124;43m'\u001b[39;49m\u001b[43m)\u001b[49m\n",
      "Input \u001b[1;32mIn [1]\u001b[0m, in \u001b[0;36mPoint._point2point\u001b[1;34m(point, in_source, to_source, in_relative, to_relative, shape, shape_source)\u001b[0m\n\u001b[0;32m     95\u001b[0m     \u001b[38;5;28;01mpass\u001b[39;00m\n\u001b[0;32m     96\u001b[0m \u001b[38;5;28;01melse\u001b[39;00m:\n\u001b[0;32m     97\u001b[0m     \u001b[38;5;28;01mraise\u001b[39;00m \u001b[38;5;167;01mException\u001b[39;00m(\n\u001b[0;32m     98\u001b[0m         \u001b[38;5;124mf\u001b[39m\u001b[38;5;124m\"\u001b[39m\u001b[38;5;124mConversion form \u001b[39m\u001b[38;5;132;01m{\u001b[39;00min_source\u001b[38;5;132;01m}\u001b[39;00m\u001b[38;5;124m to \u001b[39m\u001b[38;5;132;01m{\u001b[39;00mto_source\u001b[38;5;132;01m}\u001b[39;00m\u001b[38;5;124m is not Supported.\u001b[39m\u001b[38;5;124m\"\u001b[39m\n\u001b[1;32m---> 99\u001b[0m         \u001b[38;5;124mf\u001b[39m\u001b[38;5;124m\"\u001b[39m\u001b[38;5;124m Supported types: \u001b[39m\u001b[38;5;132;01m{\u001b[39;00mBox\u001b[38;5;241m.\u001b[39m_get_enum_names(Point\u001b[38;5;241m.\u001b[39mPointSource)\u001b[38;5;132;01m}\u001b[39;00m\u001b[38;5;124m\"\u001b[39m\n\u001b[0;32m    100\u001b[0m     )\n\u001b[0;32m    101\u001b[0m \u001b[38;5;28;01mif\u001b[39;00m to_source \u001b[38;5;129;01mis\u001b[39;00m \u001b[38;5;129;01mnot\u001b[39;00m \u001b[38;5;28;01mNone\u001b[39;00m \u001b[38;5;129;01mand\u001b[39;00m shape_source \u001b[38;5;129;01mis\u001b[39;00m \u001b[38;5;129;01mnot\u001b[39;00m \u001b[38;5;28;01mNone\u001b[39;00m \u001b[38;5;129;01mand\u001b[39;00m shape \u001b[38;5;129;01mis\u001b[39;00m \u001b[38;5;129;01mnot\u001b[39;00m \u001b[38;5;28;01mNone\u001b[39;00m:\n\u001b[0;32m    102\u001b[0m     img_w, img_h \u001b[38;5;241m=\u001b[39m Point\u001b[38;5;241m.\u001b[39mpoint2point(\n\u001b[0;32m    103\u001b[0m         shape, in_source\u001b[38;5;241m=\u001b[39mshape_source, to_source\u001b[38;5;241m=\u001b[39mto_source\n\u001b[0;32m    104\u001b[0m     )\n",
      "\u001b[1;31mNameError\u001b[0m: name 'Box' is not defined"
     ]
    }
   ],
   "source": [
    "Point._point2point(point=[1, 5], shape=[25,100],in_relative=False ,to_relative = True,in_source='Numpy',to_source ='torch')"
   ]
  },
  {
   "cell_type": "code",
   "execution_count": null,
   "id": "2de59db6",
   "metadata": {},
   "outputs": [],
   "source": []
  },
  {
   "cell_type": "code",
   "execution_count": null,
   "id": "533fa5e0",
   "metadata": {},
   "outputs": [],
   "source": []
  }
 ],
 "metadata": {
  "kernelspec": {
   "display_name": "Python 3 (ipykernel)",
   "language": "python",
   "name": "python3"
  },
  "language_info": {
   "codemirror_mode": {
    "name": "ipython",
    "version": 3
   },
   "file_extension": ".py",
   "mimetype": "text/x-python",
   "name": "python",
   "nbconvert_exporter": "python",
   "pygments_lexer": "ipython3",
   "version": "3.10.5"
  }
 },
 "nbformat": 4,
 "nbformat_minor": 5
}
