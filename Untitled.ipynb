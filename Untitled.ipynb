{
 "cells": [
  {
   "cell_type": "code",
   "execution_count": 1,
   "id": "86a715db",
   "metadata": {},
   "outputs": [
    {
     "name": "stdout",
     "output_type": "stream",
     "text": [
      "please write your favorit name: zahra\n",
      "please write your favorit name: fereshteh\n",
      "Please select your choice: sang\n",
      "Please select your choice: kaghaz\n",
      "fereshteh  win\n",
      "You want the game over?y/n?y\n",
      "Thank you for playing this game\n"
     ]
    }
   ],
   "source": [
    "name_1 = input('please write your favorit name: ')\n",
    "name_2 = input('please write your favorit name: ')\n",
    "player_1 = input('Please select your choice: ')\n",
    "player_2 = input('Please select your choice: ')\n",
    "game =['sang','kaghaz' , 'gheichi']\n",
    "count = 0\n",
    "\n",
    "if  player_1 not in game or player_2 not in game:\n",
    "    raise ValueError(f\"The choice should be among these options but your choice{game}\" )\n",
    "if player_1 == player_2:\n",
    "    print('equal')\n",
    "if player_1 == 'sang':\n",
    "    count+=1 \n",
    "    if player_2=='kaghaz':\n",
    "        print(f'{name_2}  win')\n",
    "    if player_2 == 'gheichi':\n",
    "        print(f'{name_1} win')\n",
    "if  player_1 == 'kaghaz':\n",
    "    count+=1\n",
    "if player_2=='gheichi':\n",
    "    print(f'{name_2}  win')\n",
    "if player_2 == 'sang':\n",
    "    print(f'{name_1} win')                \n",
    "if  player_1 == 'gheichi':\n",
    "    if player_2=='sang':\n",
    "        print(f'{name_2}  win')\n",
    "    if player_2 == 'kaghaz':\n",
    "        print(f'{name_1} win')\n",
    "if count == 1:\n",
    "    m =input('You want the game over?y/n?')\n",
    "    while True:\n",
    "        if m=='y':\n",
    "            print(\"Thank you for playing this game\")\n",
    "            break"
   ]
  },
  {
   "cell_type": "code",
   "execution_count": null,
   "id": "b7cce7c8",
   "metadata": {},
   "outputs": [],
   "source": [
    "number_of_elements = int(input('Enter how many elements of Fibonnaci you want: '))\n"
   ]
  }
 ],
 "metadata": {
  "kernelspec": {
   "display_name": "Python 3 (ipykernel)",
   "language": "python",
   "name": "python3"
  },
  "language_info": {
   "codemirror_mode": {
    "name": "ipython",
    "version": 3
   },
   "file_extension": ".py",
   "mimetype": "text/x-python",
   "name": "python",
   "nbconvert_exporter": "python",
   "pygments_lexer": "ipython3",
   "version": "3.10.5"
  }
 },
 "nbformat": 4,
 "nbformat_minor": 5
}
