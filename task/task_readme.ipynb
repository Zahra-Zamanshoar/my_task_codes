{
 "cells": [
  {
   "cell_type": "code",
   "execution_count": 2,
   "id": "e492c4d9",
   "metadata": {},
   "outputs": [],
   "source": [
    "import os"
   ]
  },
  {
   "cell_type": "code",
   "execution_count": 10,
   "id": "76ebe540",
   "metadata": {},
   "outputs": [
    {
     "ename": "SyntaxError",
     "evalue": "invalid syntax (626423979.py, line 27)",
     "output_type": "error",
     "traceback": [
      "\u001b[1;36m  Input \u001b[1;32mIn [10]\u001b[1;36m\u001b[0m\n\u001b[1;33m    except:\u001b[0m\n\u001b[1;37m    ^\u001b[0m\n\u001b[1;31mSyntaxError\u001b[0m\u001b[1;31m:\u001b[0m invalid syntax\n"
     ]
    }
   ],
   "source": [
    "for item in os.listdir():\n",
    "    clean_item = item.strip('.')\n",
    "    try:\n",
    "        with open(f'{clean_item}/readme.md') as file:\n",
    "            data = file.readlines\n",
    "            for line in data:\n",
    "                if '##' in line:\n",
    "                    line_s = line.strip(\"#\")\n",
    "\n",
    "                    with open('untitled.txt', mode=\"r\") as file:\n",
    "                        first_line = file.readlines()\n",
    "                        for line in first_line:\n",
    "                            with open('untitled.txt', mode = \"w\") as file_2:\n",
    "                                file_2.write(print(\n",
    "                                    f('##[{clean_item}],https://github.com/pooya-mohammadi/today-i-learned/blob/main/{clean_item}/Readme.'))\n",
    "    #                             b = print(f'##[{i}],https://github.com/pooya-mohammadi/today-i-learned/blob/main/{i}/Readme.')\n",
    "    #                     with open('untitled.txt',mode =\"w\" ) as file_2:\n",
    "    #                         file_2.write(b)\n",
    "\n",
    "    #                     print(f'https://github.com/pooya-mohammadi/today-i-learned/blob/main/toefl/writing.md/{i}/)\n",
    "    #         for j in os.listdir(b):\n",
    "    #             if j == 'Readme.md':\n",
    "    #                 for line in open(j):\n",
    "    #                     if '##' in line:\n",
    "    #                         print(line.strip(\"#\"))\n",
    "\n",
    "    except:\n",
    "                                    pass\n",
    "                                    \n",
    "            \n",
    "\n",
    "#             with open(f'{i}/readme.md') as file:\n",
    "#                 dataa = file.readlines\n",
    "#                 for line in data:\n",
    "#                      if '##' in line:\n",
    "#                         print(line.strip(\"#\"))\n",
    "#         except:\n",
    "#             break\n"
   ]
  },
  {
   "cell_type": "code",
   "execution_count": null,
   "id": "e1e6ae52",
   "metadata": {},
   "outputs": [],
   "source": []
  }
 ],
 "metadata": {
  "kernelspec": {
   "display_name": "Python 3 (ipykernel)",
   "language": "python",
   "name": "python3"
  },
  "language_info": {
   "codemirror_mode": {
    "name": "ipython",
    "version": 3
   },
   "file_extension": ".py",
   "mimetype": "text/x-python",
   "name": "python",
   "nbconvert_exporter": "python",
   "pygments_lexer": "ipython3",
<<<<<<< HEAD:tamrin/task_readme.ipynb
   "version": "3.10.7"
=======
   "version": "3.10.5"
>>>>>>> f283cf4a6fa0d83063ecac17ff592762d415c38d:task/task_readme.ipynb
  }
 },
 "nbformat": 4,
 "nbformat_minor": 5
}
